{
 "cells": [
  {
   "cell_type": "markdown",
   "id": "dc03be47",
   "metadata": {},
   "source": [
    "# ASSIGNMENT-4 (CNN Model)"
   ]
  },
  {
   "cell_type": "code",
   "execution_count": 1,
   "id": "843201b6",
   "metadata": {},
   "outputs": [
    {
     "name": "stdout",
     "output_type": "stream",
     "text": [
      "Requirement already satisfied: tensorflow in c:\\users\\kapil\\anaconda3\\lib\\site-packages (2.9.1)\n",
      "Requirement already satisfied: astunparse>=1.6.0 in c:\\users\\kapil\\anaconda3\\lib\\site-packages (from tensorflow) (1.6.3)\n",
      "Requirement already satisfied: six>=1.12.0 in c:\\users\\kapil\\anaconda3\\lib\\site-packages (from tensorflow) (1.16.0)\n",
      "Requirement already satisfied: numpy>=1.20 in c:\\users\\kapil\\anaconda3\\lib\\site-packages (from tensorflow) (1.20.3)\n",
      "Requirement already satisfied: gast<=0.4.0,>=0.2.1 in c:\\users\\kapil\\anaconda3\\lib\\site-packages (from tensorflow) (0.4.0)\n",
      "Requirement already satisfied: opt-einsum>=2.3.2 in c:\\users\\kapil\\anaconda3\\lib\\site-packages (from tensorflow) (3.3.0)\n",
      "Requirement already satisfied: libclang>=13.0.0 in c:\\users\\kapil\\anaconda3\\lib\\site-packages (from tensorflow) (14.0.1)\n",
      "Requirement already satisfied: typing-extensions>=3.6.6 in c:\\users\\kapil\\anaconda3\\lib\\site-packages (from tensorflow) (3.10.0.2)\n",
      "Requirement already satisfied: tensorflow-io-gcs-filesystem>=0.23.1 in c:\\users\\kapil\\anaconda3\\lib\\site-packages (from tensorflow) (0.26.0)\n",
      "Requirement already satisfied: absl-py>=1.0.0 in c:\\users\\kapil\\anaconda3\\lib\\site-packages (from tensorflow) (1.0.0)\n",
      "Requirement already satisfied: flatbuffers<2,>=1.12 in c:\\users\\kapil\\anaconda3\\lib\\site-packages (from tensorflow) (1.12)\n",
      "Requirement already satisfied: setuptools in c:\\users\\kapil\\anaconda3\\lib\\site-packages (from tensorflow) (58.0.4)\n",
      "Requirement already satisfied: grpcio<2.0,>=1.24.3 in c:\\users\\kapil\\anaconda3\\lib\\site-packages (from tensorflow) (1.46.3)\n",
      "Requirement already satisfied: tensorboard<2.10,>=2.9 in c:\\users\\kapil\\anaconda3\\lib\\site-packages (from tensorflow) (2.9.0)\n",
      "Requirement already satisfied: wrapt>=1.11.0 in c:\\users\\kapil\\anaconda3\\lib\\site-packages (from tensorflow) (1.12.1)\n",
      "Requirement already satisfied: termcolor>=1.1.0 in c:\\users\\kapil\\anaconda3\\lib\\site-packages (from tensorflow) (1.1.0)\n",
      "Requirement already satisfied: tensorflow-estimator<2.10.0,>=2.9.0rc0 in c:\\users\\kapil\\anaconda3\\lib\\site-packages (from tensorflow) (2.9.0)\n",
      "Requirement already satisfied: keras<2.10.0,>=2.9.0rc0 in c:\\users\\kapil\\anaconda3\\lib\\site-packages (from tensorflow) (2.9.0)\n",
      "Requirement already satisfied: google-pasta>=0.1.1 in c:\\users\\kapil\\anaconda3\\lib\\site-packages (from tensorflow) (0.2.0)\n",
      "Requirement already satisfied: keras-preprocessing>=1.1.1 in c:\\users\\kapil\\anaconda3\\lib\\site-packages (from tensorflow) (1.1.2)\n",
      "Requirement already satisfied: protobuf<3.20,>=3.9.2 in c:\\users\\kapil\\anaconda3\\lib\\site-packages (from tensorflow) (3.19.4)\n",
      "Requirement already satisfied: packaging in c:\\users\\kapil\\anaconda3\\lib\\site-packages (from tensorflow) (21.0)\n",
      "Requirement already satisfied: h5py>=2.9.0 in c:\\users\\kapil\\anaconda3\\lib\\site-packages (from tensorflow) (3.2.1)\n",
      "Requirement already satisfied: wheel<1.0,>=0.23.0 in c:\\users\\kapil\\anaconda3\\lib\\site-packages (from astunparse>=1.6.0->tensorflow) (0.37.0)\n",
      "Requirement already satisfied: google-auth<3,>=1.6.3 in c:\\users\\kapil\\anaconda3\\lib\\site-packages (from tensorboard<2.10,>=2.9->tensorflow) (2.6.6)\n",
      "Requirement already satisfied: requests<3,>=2.21.0 in c:\\users\\kapil\\anaconda3\\lib\\site-packages (from tensorboard<2.10,>=2.9->tensorflow) (2.26.0)\n",
      "Requirement already satisfied: google-auth-oauthlib<0.5,>=0.4.1 in c:\\users\\kapil\\anaconda3\\lib\\site-packages (from tensorboard<2.10,>=2.9->tensorflow) (0.4.6)\n",
      "Requirement already satisfied: tensorboard-plugin-wit>=1.6.0 in c:\\users\\kapil\\anaconda3\\lib\\site-packages (from tensorboard<2.10,>=2.9->tensorflow) (1.8.1)\n",
      "Requirement already satisfied: markdown>=2.6.8 in c:\\users\\kapil\\anaconda3\\lib\\site-packages (from tensorboard<2.10,>=2.9->tensorflow) (3.3.7)\n",
      "Requirement already satisfied: tensorboard-data-server<0.7.0,>=0.6.0 in c:\\users\\kapil\\anaconda3\\lib\\site-packages (from tensorboard<2.10,>=2.9->tensorflow) (0.6.1)\n",
      "Requirement already satisfied: werkzeug>=1.0.1 in c:\\users\\kapil\\anaconda3\\lib\\site-packages (from tensorboard<2.10,>=2.9->tensorflow) (2.0.2)\n",
      "Requirement already satisfied: pyasn1-modules>=0.2.1 in c:\\users\\kapil\\anaconda3\\lib\\site-packages (from google-auth<3,>=1.6.3->tensorboard<2.10,>=2.9->tensorflow) (0.2.8)\n",
      "Requirement already satisfied: cachetools<6.0,>=2.0.0 in c:\\users\\kapil\\anaconda3\\lib\\site-packages (from google-auth<3,>=1.6.3->tensorboard<2.10,>=2.9->tensorflow) (5.1.0)\n",
      "Requirement already satisfied: rsa<5,>=3.1.4 in c:\\users\\kapil\\anaconda3\\lib\\site-packages (from google-auth<3,>=1.6.3->tensorboard<2.10,>=2.9->tensorflow) (4.8)\n",
      "Requirement already satisfied: requests-oauthlib>=0.7.0 in c:\\users\\kapil\\anaconda3\\lib\\site-packages (from google-auth-oauthlib<0.5,>=0.4.1->tensorboard<2.10,>=2.9->tensorflow) (1.3.1)\n",
      "Requirement already satisfied: importlib-metadata>=4.4 in c:\\users\\kapil\\anaconda3\\lib\\site-packages (from markdown>=2.6.8->tensorboard<2.10,>=2.9->tensorflow) (4.8.1)\n",
      "Requirement already satisfied: zipp>=0.5 in c:\\users\\kapil\\anaconda3\\lib\\site-packages (from importlib-metadata>=4.4->markdown>=2.6.8->tensorboard<2.10,>=2.9->tensorflow) (3.6.0)\n",
      "Requirement already satisfied: pyasn1<0.5.0,>=0.4.6 in c:\\users\\kapil\\anaconda3\\lib\\site-packages (from pyasn1-modules>=0.2.1->google-auth<3,>=1.6.3->tensorboard<2.10,>=2.9->tensorflow) (0.4.8)\n",
      "Requirement already satisfied: idna<4,>=2.5 in c:\\users\\kapil\\anaconda3\\lib\\site-packages (from requests<3,>=2.21.0->tensorboard<2.10,>=2.9->tensorflow) (3.2)\n",
      "Requirement already satisfied: urllib3<1.27,>=1.21.1 in c:\\users\\kapil\\anaconda3\\lib\\site-packages (from requests<3,>=2.21.0->tensorboard<2.10,>=2.9->tensorflow) (1.26.7)\n",
      "Requirement already satisfied: charset-normalizer~=2.0.0 in c:\\users\\kapil\\anaconda3\\lib\\site-packages (from requests<3,>=2.21.0->tensorboard<2.10,>=2.9->tensorflow) (2.0.4)\n",
      "Requirement already satisfied: certifi>=2017.4.17 in c:\\users\\kapil\\anaconda3\\lib\\site-packages (from requests<3,>=2.21.0->tensorboard<2.10,>=2.9->tensorflow) (2021.10.8)\n",
      "Requirement already satisfied: oauthlib>=3.0.0 in c:\\users\\kapil\\anaconda3\\lib\\site-packages (from requests-oauthlib>=0.7.0->google-auth-oauthlib<0.5,>=0.4.1->tensorboard<2.10,>=2.9->tensorflow) (3.2.0)\n",
      "Requirement already satisfied: pyparsing>=2.0.2 in c:\\users\\kapil\\anaconda3\\lib\\site-packages (from packaging->tensorflow) (3.0.4)\n",
      "Note: you may need to restart the kernel to use updated packages.\n"
     ]
    }
   ],
   "source": [
    "pip install tensorflow"
   ]
  },
  {
   "cell_type": "code",
   "execution_count": 2,
   "id": "26c52e2c",
   "metadata": {},
   "outputs": [
    {
     "name": "stdout",
     "output_type": "stream",
     "text": [
      "Requirement already satisfied: keras in c:\\users\\kapil\\anaconda3\\lib\\site-packages (2.9.0)\n",
      "Note: you may need to restart the kernel to use updated packages.\n"
     ]
    }
   ],
   "source": [
    "pip install keras"
   ]
  },
  {
   "cell_type": "markdown",
   "id": "65c9ebd6",
   "metadata": {},
   "source": [
    "# Image Augmentation"
   ]
  },
  {
   "cell_type": "code",
   "execution_count": 3,
   "id": "23815ec8",
   "metadata": {},
   "outputs": [],
   "source": [
    "from tensorflow.keras.preprocessing.image import ImageDataGenerator"
   ]
  },
  {
   "cell_type": "code",
   "execution_count": 4,
   "id": "0505736b",
   "metadata": {},
   "outputs": [],
   "source": [
    "train_datagen=ImageDataGenerator(rescale=1/255,zoom_range=0.2,horizontal_flip=True,vertical_flip=False)"
   ]
  },
  {
   "cell_type": "code",
   "execution_count": 5,
   "id": "f14e3c08",
   "metadata": {},
   "outputs": [],
   "source": [
    "test_datagen=ImageDataGenerator(rescale=1/255)"
   ]
  },
  {
   "cell_type": "code",
   "execution_count": 6,
   "id": "ff2dda16",
   "metadata": {},
   "outputs": [
    {
     "name": "stdout",
     "output_type": "stream",
     "text": [
      "Found 1238 images belonging to 4 classes.\n"
     ]
    }
   ],
   "source": [
    "x_train=train_datagen.flow_from_directory(r'E:\\SmartBridge Externship\\Assignment-4\\CNN_Dataset\\Training',target_size=(64,64),\n",
    "                                         class_mode='categorical',batch_size=100)"
   ]
  },
  {
   "cell_type": "code",
   "execution_count": 7,
   "id": "026dbec1",
   "metadata": {},
   "outputs": [
    {
     "data": {
      "text/plain": [
       "13"
      ]
     },
     "execution_count": 7,
     "metadata": {},
     "output_type": "execute_result"
    }
   ],
   "source": [
    "len(x_train)"
   ]
  },
  {
   "cell_type": "code",
   "execution_count": 8,
   "id": "345cf2e8",
   "metadata": {},
   "outputs": [
    {
     "name": "stdout",
     "output_type": "stream",
     "text": [
      "Found 326 images belonging to 4 classes.\n"
     ]
    }
   ],
   "source": [
    "x_test=test_datagen.flow_from_directory(r'E:\\SmartBridge Externship\\Assignment-4\\CNN_Dataset\\Testing',target_size=(64,64),\n",
    "                                         class_mode='categorical',batch_size=100)"
   ]
  },
  {
   "cell_type": "code",
   "execution_count": 9,
   "id": "69e9a084",
   "metadata": {},
   "outputs": [
    {
     "data": {
      "text/plain": [
       "{'bears': 0, 'crows': 1, 'elephants': 2, 'rats': 3}"
      ]
     },
     "execution_count": 9,
     "metadata": {},
     "output_type": "execute_result"
    }
   ],
   "source": [
    "x_train.class_indices"
   ]
  },
  {
   "cell_type": "markdown",
   "id": "27174eda",
   "metadata": {},
   "source": [
    "# Import Libraries"
   ]
  },
  {
   "cell_type": "code",
   "execution_count": 10,
   "id": "0d18baea",
   "metadata": {},
   "outputs": [],
   "source": [
    "from tensorflow.keras.models import Sequential\n",
    "from tensorflow.keras.layers import Convolution2D,MaxPooling2D,Flatten,Dense"
   ]
  },
  {
   "cell_type": "markdown",
   "id": "83ecf6ab",
   "metadata": {},
   "source": [
    "# Create the model"
   ]
  },
  {
   "cell_type": "code",
   "execution_count": 11,
   "id": "578ac050",
   "metadata": {},
   "outputs": [],
   "source": [
    "model=Sequential()"
   ]
  },
  {
   "cell_type": "markdown",
   "id": "f64fb5af",
   "metadata": {},
   "source": [
    "# Add Layers"
   ]
  },
  {
   "cell_type": "code",
   "execution_count": 12,
   "id": "32380b82",
   "metadata": {},
   "outputs": [],
   "source": [
    "model.add(Convolution2D(32,(3,3),activation='relu',input_shape=(64,64,3)))"
   ]
  },
  {
   "cell_type": "code",
   "execution_count": 13,
   "id": "22b5e5f6",
   "metadata": {},
   "outputs": [],
   "source": [
    "model.add(MaxPooling2D(pool_size=(2,2)))"
   ]
  },
  {
   "cell_type": "code",
   "execution_count": 14,
   "id": "6da9fa2d",
   "metadata": {},
   "outputs": [],
   "source": [
    "model.add(Flatten())"
   ]
  },
  {
   "cell_type": "code",
   "execution_count": 15,
   "id": "5f8c89b0",
   "metadata": {},
   "outputs": [],
   "source": [
    "#hidden layer-1\n",
    "model.add(Dense(300,activation='relu'))\n",
    "#hidden layer-2\n",
    "model.add(Dense(150,activation='relu'))"
   ]
  },
  {
   "cell_type": "code",
   "execution_count": 16,
   "id": "755dc93f",
   "metadata": {},
   "outputs": [],
   "source": [
    "#output layer\n",
    "model.add(Dense(4,activation='softmax'))"
   ]
  },
  {
   "cell_type": "markdown",
   "id": "efd482a6",
   "metadata": {},
   "source": [
    "# Compile the model"
   ]
  },
  {
   "cell_type": "code",
   "execution_count": 17,
   "id": "6b198f58",
   "metadata": {},
   "outputs": [],
   "source": [
    "model.compile(loss='categorical_crossentropy',optimizer='adam',metrics=['accuracy'])"
   ]
  },
  {
   "cell_type": "markdown",
   "id": "e0e5195a",
   "metadata": {},
   "source": [
    "# Fit the model"
   ]
  },
  {
   "cell_type": "code",
   "execution_count": 18,
   "id": "8db8fbfb",
   "metadata": {},
   "outputs": [
    {
     "name": "stderr",
     "output_type": "stream",
     "text": [
      "C:\\Users\\Kapil\\AppData\\Local\\Temp/ipykernel_13352/234118701.py:1: UserWarning: `Model.fit_generator` is deprecated and will be removed in a future version. Please use `Model.fit`, which supports generators.\n",
      "  model.fit_generator(x_train,steps_per_epoch=len(x_train),epochs=10,validation_data=x_test,validation_steps=len(x_test))\n"
     ]
    },
    {
     "name": "stdout",
     "output_type": "stream",
     "text": [
      "Epoch 1/10\n",
      "13/13 [==============================] - 21s 2s/step - loss: 3.5117 - accuracy: 0.3005 - val_loss: 1.5976 - val_accuracy: 0.2607\n",
      "Epoch 2/10\n",
      "13/13 [==============================] - 15s 1s/step - loss: 1.3834 - accuracy: 0.3207 - val_loss: 1.2972 - val_accuracy: 0.3865\n",
      "Epoch 3/10\n",
      "13/13 [==============================] - 18s 1s/step - loss: 1.2110 - accuracy: 0.4871 - val_loss: 1.1594 - val_accuracy: 0.4877\n",
      "Epoch 4/10\n",
      "13/13 [==============================] - 14s 1s/step - loss: 1.0014 - accuracy: 0.5945 - val_loss: 0.9375 - val_accuracy: 0.6012\n",
      "Epoch 5/10\n",
      "13/13 [==============================] - 16s 1s/step - loss: 0.8685 - accuracy: 0.6438 - val_loss: 0.6696 - val_accuracy: 0.7393\n",
      "Epoch 6/10\n",
      "13/13 [==============================] - 20s 2s/step - loss: 0.7242 - accuracy: 0.7189 - val_loss: 0.6242 - val_accuracy: 0.7945\n",
      "Epoch 7/10\n",
      "13/13 [==============================] - 13s 976ms/step - loss: 0.7002 - accuracy: 0.7286 - val_loss: 0.5431 - val_accuracy: 0.8037\n",
      "Epoch 8/10\n",
      "13/13 [==============================] - 13s 999ms/step - loss: 0.6394 - accuracy: 0.7553 - val_loss: 0.6157 - val_accuracy: 0.7822\n",
      "Epoch 9/10\n",
      "13/13 [==============================] - 13s 982ms/step - loss: 0.6259 - accuracy: 0.7722 - val_loss: 0.4502 - val_accuracy: 0.8282\n",
      "Epoch 10/10\n",
      "13/13 [==============================] - 13s 1s/step - loss: 0.5469 - accuracy: 0.8013 - val_loss: 0.5320 - val_accuracy: 0.7945\n"
     ]
    },
    {
     "data": {
      "text/plain": [
       "<keras.callbacks.History at 0x2395a3def70>"
      ]
     },
     "execution_count": 18,
     "metadata": {},
     "output_type": "execute_result"
    }
   ],
   "source": [
    "model.fit_generator(x_train,steps_per_epoch=len(x_train),epochs=10,validation_data=x_test,validation_steps=len(x_test))"
   ]
  },
  {
   "cell_type": "markdown",
   "id": "6a4e2f7e",
   "metadata": {},
   "source": [
    "# Save the model"
   ]
  },
  {
   "cell_type": "code",
   "execution_count": 19,
   "id": "bdc7d4dd",
   "metadata": {},
   "outputs": [],
   "source": [
    "model.save('animal.h5')"
   ]
  },
  {
   "cell_type": "markdown",
   "id": "efb322bf",
   "metadata": {},
   "source": [
    "# Testing the CNN Model"
   ]
  },
  {
   "cell_type": "code",
   "execution_count": 29,
   "id": "19d4b3eb",
   "metadata": {},
   "outputs": [],
   "source": [
    "import numpy as np\n",
    "from tensorflow.keras.models import load_model\n",
    "from tensorflow.keras.preprocessing import image"
   ]
  },
  {
   "cell_type": "code",
   "execution_count": 32,
   "id": "9ebea052",
   "metadata": {},
   "outputs": [],
   "source": [
    "model=load_model('animal.h5')\n",
    "img=image.load_img(r'E:\\SmartBridge Externship\\Assignment-4\\CNN_Dataset\\Testing\\elephants\\namibia_1057544__340.jpg',target_size=(64,64))"
   ]
  },
  {
   "cell_type": "code",
   "execution_count": 33,
   "id": "1d4054c8",
   "metadata": {},
   "outputs": [
    {
     "data": {
      "image/png": "[encoded data removed]",
      "text/plain": [
       "<PIL.Image.Image image mode=RGB size=64x64 at 0x239023630A0>"
      ]
     },
     "execution_count": 33,
     "metadata": {},
     "output_type": "execute_result"
    }
   ],
   "source": [
    "img"
   ]
  },
  {
   "cell_type": "code",
   "execution_count": 34,
   "id": "c172a21c",
   "metadata": {},
   "outputs": [],
   "source": [
    "x=image.img_to_array(img)"
   ]
  },
  {
   "cell_type": "code",
   "execution_count": 35,
   "id": "5e2382d8",
   "metadata": {},
   "outputs": [
    {
     "data": {
      "text/plain": [
       "array([[[161., 149., 133.],\n",
       "        [250., 241., 242.],\n",
       "        [249., 255., 255.],\n",
       "        ...,\n",
       "        [255., 253., 255.],\n",
       "        [231., 243., 241.],\n",
       "        [219., 215., 229.]],\n",
       "\n",
       "       [[239., 222., 228.],\n",
       "        [215., 214., 219.],\n",
       "        [142., 129., 138.],\n",
       "        ...,\n",
       "        [242., 242., 250.],\n",
       "        [229., 240., 242.],\n",
       "        [233., 229., 244.]],\n",
       "\n",
       "       [[173., 162., 156.],\n",
       "        [243., 251., 253.],\n",
       "        [248., 255., 255.],\n",
       "        ...,\n",
       "        [151., 148., 159.],\n",
       "        [243., 255., 255.],\n",
       "        [ 94.,  91., 100.]],\n",
       "\n",
       "       ...,\n",
       "\n",
       "       [[219., 177., 117.],\n",
       "        [224., 189., 133.],\n",
       "        [217., 178., 109.],\n",
       "        ...,\n",
       "        [245., 204., 138.],\n",
       "        [230., 195., 141.],\n",
       "        [234., 195., 130.]],\n",
       "\n",
       "       [[211., 172., 115.],\n",
       "        [229., 190., 131.],\n",
       "        [235., 199., 141.],\n",
       "        ...,\n",
       "        [234., 179.,  97.],\n",
       "        [230., 193., 140.],\n",
       "        [242., 197., 129.]],\n",
       "\n",
       "       [[233., 195., 120.],\n",
       "        [235., 187., 125.],\n",
       "        [220., 184., 132.],\n",
       "        ...,\n",
       "        [243., 207., 157.],\n",
       "        [254., 220., 174.],\n",
       "        [240., 198., 112.]]], dtype=float32)"
      ]
     },
     "execution_count": 35,
     "metadata": {},
     "output_type": "execute_result"
    }
   ],
   "source": [
    "x"
   ]
  },
  {
   "cell_type": "code",
   "execution_count": 36,
   "id": "161b4c67",
   "metadata": {},
   "outputs": [
    {
     "data": {
      "text/plain": [
       "3"
      ]
     },
     "execution_count": 36,
     "metadata": {},
     "output_type": "execute_result"
    }
   ],
   "source": [
    "x.ndim"
   ]
  },
  {
   "cell_type": "code",
   "execution_count": 37,
   "id": "cad25b3a",
   "metadata": {},
   "outputs": [],
   "source": [
    "x=np.expand_dims(x,axis=0)"
   ]
  },
  {
   "cell_type": "code",
   "execution_count": 38,
   "id": "39df1eb9",
   "metadata": {},
   "outputs": [
    {
     "data": {
      "text/plain": [
       "array([[[[161., 149., 133.],\n",
       "         [250., 241., 242.],\n",
       "         [249., 255., 255.],\n",
       "         ...,\n",
       "         [255., 253., 255.],\n",
       "         [231., 243., 241.],\n",
       "         [219., 215., 229.]],\n",
       "\n",
       "        [[239., 222., 228.],\n",
       "         [215., 214., 219.],\n",
       "         [142., 129., 138.],\n",
       "         ...,\n",
       "         [242., 242., 250.],\n",
       "         [229., 240., 242.],\n",
       "         [233., 229., 244.]],\n",
       "\n",
       "        [[173., 162., 156.],\n",
       "         [243., 251., 253.],\n",
       "         [248., 255., 255.],\n",
       "         ...,\n",
       "         [151., 148., 159.],\n",
       "         [243., 255., 255.],\n",
       "         [ 94.,  91., 100.]],\n",
       "\n",
       "        ...,\n",
       "\n",
       "        [[219., 177., 117.],\n",
       "         [224., 189., 133.],\n",
       "         [217., 178., 109.],\n",
       "         ...,\n",
       "         [245., 204., 138.],\n",
       "         [230., 195., 141.],\n",
       "         [234., 195., 130.]],\n",
       "\n",
       "        [[211., 172., 115.],\n",
       "         [229., 190., 131.],\n",
       "         [235., 199., 141.],\n",
       "         ...,\n",
       "         [234., 179.,  97.],\n",
       "         [230., 193., 140.],\n",
       "         [242., 197., 129.]],\n",
       "\n",
       "        [[233., 195., 120.],\n",
       "         [235., 187., 125.],\n",
       "         [220., 184., 132.],\n",
       "         ...,\n",
       "         [243., 207., 157.],\n",
       "         [254., 220., 174.],\n",
       "         [240., 198., 112.]]]], dtype=float32)"
      ]
     },
     "execution_count": 38,
     "metadata": {},
     "output_type": "execute_result"
    }
   ],
   "source": [
    "x"
   ]
  },
  {
   "cell_type": "code",
   "execution_count": 39,
   "id": "63388d61",
   "metadata": {},
   "outputs": [
    {
     "data": {
      "text/plain": [
       "4"
      ]
     },
     "execution_count": 39,
     "metadata": {},
     "output_type": "execute_result"
    }
   ],
   "source": [
    "x.ndim"
   ]
  },
  {
   "cell_type": "code",
   "execution_count": 41,
   "id": "d94a3088",
   "metadata": {},
   "outputs": [
    {
     "name": "stdout",
     "output_type": "stream",
     "text": [
      "1/1 [==============================] - 1s 580ms/step\n"
     ]
    }
   ],
   "source": [
    "pred=np.argmax(model.predict(x),axis=1)"
   ]
  },
  {
   "cell_type": "code",
   "execution_count": 42,
   "id": "f356cd35",
   "metadata": {},
   "outputs": [
    {
     "data": {
      "text/plain": [
       "array([2], dtype=int64)"
      ]
     },
     "execution_count": 42,
     "metadata": {},
     "output_type": "execute_result"
    }
   ],
   "source": [
    "pred"
   ]
  },
  {
   "cell_type": "code",
   "execution_count": 43,
   "id": "754feedd",
   "metadata": {},
   "outputs": [
    {
     "name": "stdout",
     "output_type": "stream",
     "text": [
      "elephants\n"
     ]
    }
   ],
   "source": [
    "index=['bears','crows','elephants','rats']\n",
    "print(index[pred[0]])"
   ]
  },
  {
   "cell_type": "markdown",
   "id": "50eaa90a",
   "metadata": {},
   "source": [
    "# Open-CV\n"
   ]
  },
  {
   "cell_type": "code",
   "execution_count": 44,
   "id": "2d5707f9",
   "metadata": {},
   "outputs": [
    {
     "name": "stdout",
     "output_type": "stream",
     "text": [
      "Collecting opencv-pythonNote: you may need to restart the kernel to use updated packages.\n",
      "  Downloading opencv_python-4.5.5.64-cp36-abi3-win_amd64.whl (35.4 MB)\n",
      "Requirement already satisfied: numpy>=1.17.3 in c:\\users\\kapil\\anaconda3\\lib\\site-packages (from opencv-python) (1.20.3)\n",
      "Installing collected packages: opencv-python\n",
      "Successfully installed opencv-python-4.5.5.64\n",
      "\n"
     ]
    }
   ],
   "source": [
    "pip install opencv-python"
   ]
  },
  {
   "cell_type": "code",
   "execution_count": 45,
   "id": "b8bc64fb",
   "metadata": {},
   "outputs": [],
   "source": [
    "import cv2"
   ]
  },
  {
   "cell_type": "code",
   "execution_count": 46,
   "id": "a0e0d4d0",
   "metadata": {},
   "outputs": [],
   "source": [
    "img=cv2.imread(r'E:\\SmartBridge Externship\\Assignment-4\\CNN_Dataset\\Testing\\elephants\\namibia_1057544__340.jpg',1)"
   ]
  },
  {
   "cell_type": "code",
   "execution_count": 47,
   "id": "63ac6918",
   "metadata": {},
   "outputs": [
    {
     "data": {
      "text/plain": [
       "array([[[248, 233, 237],\n",
       "        [230, 213, 217],\n",
       "        [167, 148, 151],\n",
       "        ...,\n",
       "        [255, 245, 253],\n",
       "        [253, 242, 250],\n",
       "        [253, 246, 251]],\n",
       "\n",
       "       [[249, 236, 238],\n",
       "        [244, 231, 233],\n",
       "        [200, 186, 190],\n",
       "        ...,\n",
       "        [255, 251, 255],\n",
       "        [255, 244, 252],\n",
       "        [247, 240, 245]],\n",
       "\n",
       "       [[246, 241, 238],\n",
       "        [229, 225, 224],\n",
       "        [216, 220, 221],\n",
       "        ...,\n",
       "        [250, 237, 245],\n",
       "        [255, 251, 255],\n",
       "        [210, 203, 208]],\n",
       "\n",
       "       ...,\n",
       "\n",
       "       [[130, 181, 224],\n",
       "        [125, 183, 225],\n",
       "        [116, 185, 224],\n",
       "        ...,\n",
       "        [113, 192, 231],\n",
       "        [135, 196, 236],\n",
       "        [157, 209, 249]],\n",
       "\n",
       "       [[139, 190, 233],\n",
       "        [130, 188, 230],\n",
       "        [113, 182, 221],\n",
       "        ...,\n",
       "        [116, 195, 234],\n",
       "        [133, 194, 234],\n",
       "        [146, 198, 238]],\n",
       "\n",
       "       [[148, 199, 242],\n",
       "        [135, 193, 235],\n",
       "        [107, 176, 215],\n",
       "        ...,\n",
       "        [120, 199, 238],\n",
       "        [135, 196, 236],\n",
       "        [142, 194, 234]]], dtype=uint8)"
      ]
     },
     "execution_count": 47,
     "metadata": {},
     "output_type": "execute_result"
    }
   ],
   "source": [
    "img"
   ]
  },
  {
   "cell_type": "code",
   "execution_count": 48,
   "id": "3635bf15",
   "metadata": {},
   "outputs": [],
   "source": [
    "img1=cv2.imread(r'E:\\SmartBridge Externship\\Assignment-4\\CNN_Dataset\\Testing\\elephants\\namibia_1057544__340.jpg',0)"
   ]
  },
  {
   "cell_type": "code",
   "execution_count": 49,
   "id": "5860a7bd",
   "metadata": {},
   "outputs": [
    {
     "data": {
      "text/plain": [
       "array([[236, 216, 151, ..., 249, 246, 248],\n",
       "       [238, 233, 189, ..., 255, 248, 242],\n",
       "       [241, 225, 220, ..., 241, 255, 205],\n",
       "       ...,\n",
       "       [188, 189, 189, ..., 195, 201, 215],\n",
       "       [197, 194, 186, ..., 198, 199, 204],\n",
       "       [206, 199, 180, ..., 202, 201, 200]], dtype=uint8)"
      ]
     },
     "execution_count": 49,
     "metadata": {},
     "output_type": "execute_result"
    }
   ],
   "source": [
    "img1"
   ]
  },
  {
   "cell_type": "code",
   "execution_count": 50,
   "id": "690d9483",
   "metadata": {},
   "outputs": [
    {
     "name": "stdout",
     "output_type": "stream",
     "text": [
      "(340, 448, 3)\n"
     ]
    }
   ],
   "source": [
    "print(img.shape)"
   ]
  },
  {
   "cell_type": "code",
   "execution_count": 52,
   "id": "6ab955ee",
   "metadata": {},
   "outputs": [],
   "source": [
    "img=cv2.imread(r'E:\\SmartBridge Externship\\Assignment-4\\CNN_Dataset\\Testing\\elephants\\namibia_1057544__340.jpg',1)\n",
    "cv2.imshow('image',img)\n",
    "cv2.waitKey(0)\n",
    "cv2.destroyAllWindows()"
   ]
  },
  {
   "cell_type": "markdown",
   "id": "a414ef6e",
   "metadata": {},
   "source": [
    "# CNN Video Analysis"
   ]
  },
  {
   "cell_type": "code",
   "execution_count": 1,
   "id": "aa21707f",
   "metadata": {},
   "outputs": [
    {
     "ename": "AttributeError",
     "evalue": "'Sequential' object has no attribute 'predict_classes'",
     "output_type": "error",
     "traceback": [
      "\u001b[1;31m---------------------------------------------------------------------------\u001b[0m",
      "\u001b[1;31mAttributeError\u001b[0m                            Traceback (most recent call last)",
      "\u001b[1;32m~\\AppData\\Local\\Temp/ipykernel_14196/1314657278.py\u001b[0m in \u001b[0;36m<module>\u001b[1;34m\u001b[0m\n\u001b[0;32m     12\u001b[0m     \u001b[0mx\u001b[0m\u001b[1;33m=\u001b[0m\u001b[0mimage\u001b[0m\u001b[1;33m.\u001b[0m\u001b[0mimg_to_array\u001b[0m\u001b[1;33m(\u001b[0m\u001b[0mimg\u001b[0m\u001b[1;33m)\u001b[0m\u001b[1;33m\u001b[0m\u001b[1;33m\u001b[0m\u001b[0m\n\u001b[0;32m     13\u001b[0m     \u001b[0mx\u001b[0m\u001b[1;33m=\u001b[0m\u001b[0mnp\u001b[0m\u001b[1;33m.\u001b[0m\u001b[0mexpand_dims\u001b[0m\u001b[1;33m(\u001b[0m\u001b[0mx\u001b[0m\u001b[1;33m,\u001b[0m\u001b[0maxis\u001b[0m\u001b[1;33m=\u001b[0m\u001b[1;36m0\u001b[0m\u001b[1;33m)\u001b[0m\u001b[1;33m\u001b[0m\u001b[1;33m\u001b[0m\u001b[0m\n\u001b[1;32m---> 14\u001b[1;33m     \u001b[0mpred\u001b[0m\u001b[1;33m=\u001b[0m\u001b[0mmodel\u001b[0m\u001b[1;33m.\u001b[0m\u001b[0mpredict_classes\u001b[0m\u001b[1;33m(\u001b[0m\u001b[0mx\u001b[0m\u001b[1;33m)\u001b[0m\u001b[1;33m\u001b[0m\u001b[1;33m\u001b[0m\u001b[0m\n\u001b[0m\u001b[0;32m     15\u001b[0m     \u001b[0my\u001b[0m\u001b[1;33m=\u001b[0m\u001b[0mpred\u001b[0m\u001b[1;33m[\u001b[0m\u001b[1;36m0\u001b[0m\u001b[1;33m]\u001b[0m\u001b[1;33m\u001b[0m\u001b[1;33m\u001b[0m\u001b[0m\n\u001b[0;32m     16\u001b[0m     \u001b[0mcv2\u001b[0m\u001b[1;33m.\u001b[0m\u001b[0mputText\u001b[0m\u001b[1;33m(\u001b[0m\u001b[0mframe\u001b[0m\u001b[1;33m,\u001b[0m\u001b[1;34m'The Predicted Animal is: '\u001b[0m\u001b[1;33m+\u001b[0m\u001b[0mstr\u001b[0m\u001b[1;33m(\u001b[0m\u001b[0mindex\u001b[0m\u001b[1;33m[\u001b[0m\u001b[0my\u001b[0m\u001b[1;33m]\u001b[0m\u001b[1;33m)\u001b[0m\u001b[1;33m,\u001b[0m\u001b[1;33m(\u001b[0m\u001b[1;36m100\u001b[0m\u001b[1;33m,\u001b[0m\u001b[1;36m100\u001b[0m\u001b[1;33m)\u001b[0m\u001b[1;33m,\u001b[0m\u001b[0mcv2\u001b[0m\u001b[1;33m.\u001b[0m\u001b[0mFONT_HERSHEY_SIMPLEX\u001b[0m\u001b[1;33m,\u001b[0m\u001b[1;36m1\u001b[0m\u001b[1;33m,\u001b[0m\u001b[1;33m(\u001b[0m\u001b[1;36m0\u001b[0m\u001b[1;33m,\u001b[0m\u001b[1;36m0\u001b[0m\u001b[1;33m,\u001b[0m\u001b[1;36m0\u001b[0m\u001b[1;33m)\u001b[0m\u001b[1;33m,\u001b[0m\u001b[1;36m4\u001b[0m\u001b[1;33m)\u001b[0m\u001b[1;33m\u001b[0m\u001b[1;33m\u001b[0m\u001b[0m\n",
      "\u001b[1;31mAttributeError\u001b[0m: 'Sequential' object has no attribute 'predict_classes'"
     ]
    }
   ],
   "source": [
    "import cv2\n",
    "import numpy as np\n",
    "from tensorflow.keras.models import load_model\n",
    "from tensorflow.keras.preprocessing import image\n",
    "model=load_model('animal.h5')\n",
    "video=cv2.VideoCapture(0)\n",
    "index=['bears','crows','elephants','rats']\n",
    "while 1:\n",
    "    succes,frame=video.read() \n",
    "    cv2.imwrite('image.jpg',frame)\n",
    "    img=image.load_img('image.jpg',target_size=(64,64))\n",
    "    x=image.img_to_array(img)\n",
    "    x=np.expand_dims(x,axis=0)\n",
    "    pred=model.predict_classes(x)\n",
    "    y=pred[0]\n",
    "    cv2.putText(frame,'The Predicted Animal is: '+str(index[y]),(100,100),cv2.FONT_HERSHEY_SIMPLEX,1,(0,0,0),4)\n",
    "    cv2.imshow('image',frame)\n",
    "    if cv2.waitKey(1) & 0xFF == ord('q'):\n",
    "        break\n",
    "video.release()\n",
    "cv2.destroyAllWindows()"
   ]
  },
  {
   "cell_type": "code",
   "execution_count": null,
   "id": "fda15329",
   "metadata": {},
   "outputs": [],
   "source": []
  }
 ],
 "metadata": {
  "kernelspec": {
   "display_name": "Python 3 (ipykernel)",
   "language": "python",
   "name": "python3"
  },
  "language_info": {
   "codemirror_mode": {
    "name": "ipython",
    "version": 3
   },
   "file_extension": ".py",
   "mimetype": "text/x-python",
   "name": "python",
   "nbconvert_exporter": "python",
   "pygments_lexer": "ipython3",
   "version": "3.9.7"
  }
 },
 "nbformat": 4,
 "nbformat_minor": 5
}
